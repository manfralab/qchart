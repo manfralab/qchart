{
 "cells": [
  {
   "cell_type": "code",
   "execution_count": 43,
   "metadata": {
    "tags": []
   },
   "outputs": [],
   "source": [
    "from qchart import start_listener, listener_is_running\n",
    "from qchart.client import DataSender\n",
    "from datetime import datetime\n",
    "import copy\n",
    "import time\n",
    "import numpy as np\n",
    "\n",
    "def get_new_id():\n",
    "    # use this to tag datasets\n",
    "    t = datetime.now().strftime('%Y-%M-%d_%H-%M-%S-%f')\n",
    "    return f'test_nik_{t}'"
   ]
  },
  {
   "cell_type": "code",
   "execution_count": 48,
   "metadata": {},
   "outputs": [],
   "source": [
    "from functools import partial\n",
    "\n",
    "def sine_model(x, freq: float, phase: float, noise: float=1):\n",
    "    \"\"\"\n",
    "    Returns a generator sampling a sine wave. The sine wave has an \n",
    "    amplitude of 1 and some noise\n",
    "    \"\"\"\n",
    "\n",
    "    rad_phase = np.pi*phase/180.0\n",
    "    model = np.sin(2*np.pi*x + rad_phase)\n",
    "    noise = np.random.rand(*x.shape)*noise\n",
    "    return np.array(model + noise)\n",
    "\n",
    "def gauss_model(x0: float, y0: float, sigma: float, noise: float=0.0005):\n",
    "    \"\"\"\n",
    "    Returns a generator sampling a gaussian. The gaussian is\n",
    "    normalised such that its maximal value is simply 1\n",
    "    \"\"\"\n",
    "    while True:\n",
    "        (x, y) = yield\n",
    "        model = np.exp(-((x0-x)**2+(y0-y)**2)/2/sigma**2)*np.exp(2*sigma**2)\n",
    "        noise = np.random.randn()*noise\n",
    "        yield (model + noise)"
   ]
  },
  {
   "cell_type": "code",
   "execution_count": 77,
   "metadata": {
    "tags": []
   },
   "outputs": [
    {
     "name": "stdout",
     "output_type": "stream",
     "text": [
      "starting qchart listener at c:\\users\\nikha\\repos\\qchart\\listener_start.py ...\n",
      "qchart listener successfully started.\n"
     ]
    }
   ],
   "source": [
    "if not listener_is_running():\n",
    "    start_listener()"
   ]
  },
  {
   "attachments": {},
   "cell_type": "markdown",
   "metadata": {},
   "source": [
    "### 1D data in one shot"
   ]
  },
  {
   "cell_type": "code",
   "execution_count": 57,
   "metadata": {
    "tags": []
   },
   "outputs": [],
   "source": [
    "# template for sending data through DataSender\n",
    "data_structure = {\n",
    "    'x_param': {\n",
    "        'values': [],\n",
    "        'unit': 'A'\n",
    "    },\n",
    "    'y_param': {\n",
    "        'values': [],\n",
    "        'unit': '',\n",
    "        'axes': ['x_param']\n",
    "    }\n",
    "}\n",
    "\n",
    "# getter function\n",
    "get_sin1 = partial(sine_model, freq=10, phase = 9, noise=0.1)\n",
    "\n",
    "x_vals = np.linspace(3,4,100)\n",
    "y_vals = get_sin1(x_vals)\n",
    "\n",
    "sndr = DataSender(get_new_id())\n",
    "\n",
    "data = copy.deepcopy(data_structure)\n",
    "data['x_param']['values'] = x_vals\n",
    "data['y_param']['values'] = y_vals\n",
    "\n",
    "sndr.send_data(data)"
   ]
  },
  {
   "attachments": {},
   "cell_type": "markdown",
   "metadata": {},
   "source": [
    "### 1D data in 1 shot with 2 outputs"
   ]
  },
  {
   "cell_type": "code",
   "execution_count": 58,
   "metadata": {},
   "outputs": [],
   "source": [
    "# template for sending data through DataSender\n",
    "data_structure = {\n",
    "    'x_param': {\n",
    "        'values': [],\n",
    "        'unit': 'mA'\n",
    "    },\n",
    "    'y_param': {\n",
    "        'values': [],\n",
    "        'unit': 'arb',\n",
    "        'axes': ['x_param']\n",
    "    },\n",
    "    'y_param_2': {\n",
    "        'values': [],\n",
    "        'unit': 'arb',\n",
    "        'axes': ['x_param']\n",
    "    }\n",
    "}\n",
    "\n",
    "# getter function\n",
    "get_sin1 = partial(sine_model, freq=10, phase = 9, noise=0.1)\n",
    "get_sin2 = partial(sine_model, freq=12, phase = 99, noise=0.02)\n",
    "\n",
    "x_vals = np.linspace(3,4,100)\n",
    "\n",
    "sndr = DataSender(get_new_id())\n",
    "\n",
    "data = copy.deepcopy(data_structure)\n",
    "data['x_param']['values'] = x_vals\n",
    "data['y_param']['values'] = get_sin1(x_vals)\n",
    "data['y_param_2']['values'] = get_sin2(x_vals)\n",
    "\n",
    "sndr.send_data(data)"
   ]
  },
  {
   "attachments": {},
   "cell_type": "markdown",
   "metadata": {},
   "source": [
    "### Stream 1D data"
   ]
  },
  {
   "cell_type": "code",
   "execution_count": 79,
   "metadata": {},
   "outputs": [],
   "source": [
    "# template for sending data through DataSender\n",
    "data_structure = {\n",
    "    'x_param': {\n",
    "        'values': [],\n",
    "        'unit': 'mA'\n",
    "    },\n",
    "    'y_param': {\n",
    "        'values': [],\n",
    "        'unit': 'arb',\n",
    "        'axes': ['x_param']\n",
    "    },\n",
    "    'y_param_2': {\n",
    "        'values': [],\n",
    "        'unit': 'arb',\n",
    "        'axes': ['x_param']\n",
    "    }\n",
    "}\n",
    "\n",
    "# getter function\n",
    "get_sin1 = partial(sine_model, freq=10, phase = 9, noise=0.1)\n",
    "get_sin2 = partial(sine_model, freq=12, phase = 99, noise=0.02)\n",
    "\n",
    "x_vals = np.linspace(0,10,100).reshape(5,-1)\n",
    "\n",
    "sndr = DataSender(get_new_id())\n",
    "\n",
    "for x in x_vals:\n",
    "    data = copy.deepcopy(data_structure)\n",
    "    data['x_param']['values'] = x\n",
    "    data['y_param']['values'] = get_sin1(x)\n",
    "    data['y_param_2']['values'] = get_sin2(x)\n",
    "\n",
    "    time.sleep(2.0) # artifical delay to pretent like we're collecting data\n",
    "\n",
    "    sndr.send_data(data)"
   ]
  },
  {
   "cell_type": "code",
   "execution_count": 66,
   "metadata": {},
   "outputs": [
    {
     "data": {
      "text/plain": [
       "array([ 0.        ,  0.1010101 ,  0.2020202 ,  0.3030303 ,  0.4040404 ,\n",
       "        0.50505051,  0.60606061,  0.70707071,  0.80808081,  0.90909091,\n",
       "        1.01010101,  1.11111111,  1.21212121,  1.31313131,  1.41414141,\n",
       "        1.51515152,  1.61616162,  1.71717172,  1.81818182,  1.91919192,\n",
       "        2.02020202,  2.12121212,  2.22222222,  2.32323232,  2.42424242,\n",
       "        2.52525253,  2.62626263,  2.72727273,  2.82828283,  2.92929293,\n",
       "        3.03030303,  3.13131313,  3.23232323,  3.33333333,  3.43434343,\n",
       "        3.53535354,  3.63636364,  3.73737374,  3.83838384,  3.93939394,\n",
       "        4.04040404,  4.14141414,  4.24242424,  4.34343434,  4.44444444,\n",
       "        4.54545455,  4.64646465,  4.74747475,  4.84848485,  4.94949495,\n",
       "        5.05050505,  5.15151515,  5.25252525,  5.35353535,  5.45454545,\n",
       "        5.55555556,  5.65656566,  5.75757576,  5.85858586,  5.95959596,\n",
       "        6.06060606,  6.16161616,  6.26262626,  6.36363636,  6.46464646,\n",
       "        6.56565657,  6.66666667,  6.76767677,  6.86868687,  6.96969697,\n",
       "        7.07070707,  7.17171717,  7.27272727,  7.37373737,  7.47474747,\n",
       "        7.57575758,  7.67676768,  7.77777778,  7.87878788,  7.97979798,\n",
       "        8.08080808,  8.18181818,  8.28282828,  8.38383838,  8.48484848,\n",
       "        8.58585859,  8.68686869,  8.78787879,  8.88888889,  8.98989899,\n",
       "        9.09090909,  9.19191919,  9.29292929,  9.39393939,  9.49494949,\n",
       "        9.5959596 ,  9.6969697 ,  9.7979798 ,  9.8989899 , 10.        ])"
      ]
     },
     "execution_count": 66,
     "metadata": {},
     "output_type": "execute_result"
    }
   ],
   "source": [
    "x_vals"
   ]
  },
  {
   "cell_type": "code",
   "execution_count": 69,
   "metadata": {},
   "outputs": [
    {
     "data": {
      "text/plain": [
       "array([[ 0.        ,  0.1010101 ,  0.2020202 ,  0.3030303 ,  0.4040404 ,\n",
       "         0.50505051,  0.60606061,  0.70707071,  0.80808081,  0.90909091,\n",
       "         1.01010101,  1.11111111,  1.21212121,  1.31313131,  1.41414141,\n",
       "         1.51515152,  1.61616162,  1.71717172,  1.81818182,  1.91919192],\n",
       "       [ 2.02020202,  2.12121212,  2.22222222,  2.32323232,  2.42424242,\n",
       "         2.52525253,  2.62626263,  2.72727273,  2.82828283,  2.92929293,\n",
       "         3.03030303,  3.13131313,  3.23232323,  3.33333333,  3.43434343,\n",
       "         3.53535354,  3.63636364,  3.73737374,  3.83838384,  3.93939394],\n",
       "       [ 4.04040404,  4.14141414,  4.24242424,  4.34343434,  4.44444444,\n",
       "         4.54545455,  4.64646465,  4.74747475,  4.84848485,  4.94949495,\n",
       "         5.05050505,  5.15151515,  5.25252525,  5.35353535,  5.45454545,\n",
       "         5.55555556,  5.65656566,  5.75757576,  5.85858586,  5.95959596],\n",
       "       [ 6.06060606,  6.16161616,  6.26262626,  6.36363636,  6.46464646,\n",
       "         6.56565657,  6.66666667,  6.76767677,  6.86868687,  6.96969697,\n",
       "         7.07070707,  7.17171717,  7.27272727,  7.37373737,  7.47474747,\n",
       "         7.57575758,  7.67676768,  7.77777778,  7.87878788,  7.97979798],\n",
       "       [ 8.08080808,  8.18181818,  8.28282828,  8.38383838,  8.48484848,\n",
       "         8.58585859,  8.68686869,  8.78787879,  8.88888889,  8.98989899,\n",
       "         9.09090909,  9.19191919,  9.29292929,  9.39393939,  9.49494949,\n",
       "         9.5959596 ,  9.6969697 ,  9.7979798 ,  9.8989899 , 10.        ]])"
      ]
     },
     "execution_count": 69,
     "metadata": {},
     "output_type": "execute_result"
    }
   ],
   "source": [
    "x_vals = np.linspace(0,10,100)\n",
    "x_vals.reshape(5,-1)\n",
    "\n"
   ]
  },
  {
   "cell_type": "code",
   "execution_count": 73,
   "metadata": {},
   "outputs": [
    {
     "data": {
      "text/plain": [
       "array([[10.]])"
      ]
     },
     "execution_count": 73,
     "metadata": {},
     "output_type": "execute_result"
    }
   ],
   "source": []
  },
  {
   "cell_type": "code",
   "execution_count": null,
   "metadata": {},
   "outputs": [],
   "source": []
  }
 ],
 "metadata": {
  "kernelspec": {
   "display_name": "Python 3 (ipykernel)",
   "language": "python",
   "name": "python3"
  },
  "language_info": {
   "codemirror_mode": {
    "name": "ipython",
    "version": 3
   },
   "file_extension": ".py",
   "mimetype": "text/x-python",
   "name": "python",
   "nbconvert_exporter": "python",
   "pygments_lexer": "ipython3",
   "version": "3.10.13"
  }
 },
 "nbformat": 4,
 "nbformat_minor": 4
}
