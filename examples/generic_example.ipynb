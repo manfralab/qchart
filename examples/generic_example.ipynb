{
 "cells": [
  {
   "cell_type": "code",
   "execution_count": 1,
   "metadata": {},
   "outputs": [],
   "source": [
    "from qchart import start_listener, listener_is_running\n",
    "from qchart.client import DataSender\n",
    "from datetime import datetime\n",
    "import copy\n",
    "import numpy as np"
   ]
  },
  {
   "cell_type": "code",
   "execution_count": 2,
   "metadata": {},
   "outputs": [
    {
     "name": "stdout",
     "output_type": "stream",
     "text": [
      "starting qchart listener at c:\\users\\nikha\\repos\\qchart\\listener_start.py ...\n",
      "qchart listener successfully started.\n"
     ]
    }
   ],
   "source": [
    "if not listener_is_running():\n",
    "    start_listener()"
   ]
  },
  {
   "cell_type": "code",
   "execution_count": 7,
   "metadata": {},
   "outputs": [],
   "source": [
    "def get_new_id():\n",
    "    t = datetime.now().strftime('%Y-%M-%d_%H-%M-%S-%f')\n",
    "    return f'test-nik-{t}'\n",
    "\n",
    "data_structure = {\n",
    "    'x_param': {\n",
    "        'values': [],\n",
    "        'unit': 'A'\n",
    "    },\n",
    "    'y_param': {\n",
    "        'values': [],\n",
    "        'unit': '',\n",
    "        'axes': ['x_param']\n",
    "    }\n",
    "}\n",
    "\n",
    "x_vals = np.linspace(3,4,100)\n",
    "y_vals = np.random.rand(*x_vals.shape)\n",
    "\n",
    "sndr = DataSender(get_new_id())\n",
    "\n",
    "data = copy.deepcopy(data_structure)\n",
    "data['x_param']['values'] = x_vals\n",
    "data['y_param']['values'] = y_vals\n",
    "\n",
    "sndr.send_data(data)"
   ]
  },
  {
   "cell_type": "code",
   "execution_count": null,
   "metadata": {},
   "outputs": [],
   "source": []
  }
 ],
 "metadata": {
  "kernelspec": {
   "display_name": "simple",
   "language": "python",
   "name": "python3"
  },
  "language_info": {
   "codemirror_mode": {
    "name": "ipython",
    "version": 3
   },
   "file_extension": ".py",
   "mimetype": "text/x-python",
   "name": "python",
   "nbconvert_exporter": "python",
   "pygments_lexer": "ipython3",
   "version": "3.10.13"
  },
  "orig_nbformat": 4
 },
 "nbformat": 4,
 "nbformat_minor": 2
}
