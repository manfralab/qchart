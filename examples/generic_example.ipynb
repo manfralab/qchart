{
 "cells": [
  {
   "cell_type": "code",
   "execution_count": 3,
   "metadata": {
    "tags": []
   },
   "outputs": [],
   "source": [
    "from qchart import start_listener, listener_is_running\n",
    "from qchart.client import DataSender\n",
    "from datetime import datetime\n",
    "import copy\n",
    "import time\n",
    "import numpy as np\n",
    "\n",
    "def get_new_id():\n",
    "    # use this to tag datasets\n",
    "    t = datetime.now().strftime('%Y-%M-%d_%H-%M-%S-%f')\n",
    "    return f'test_nik_{t}'"
   ]
  },
  {
   "cell_type": "code",
   "execution_count": 4,
   "metadata": {},
   "outputs": [],
   "source": [
    "from functools import partial\n",
    "\n",
    "def sine_model(x, freq: float, phase: float, noise: float=1):\n",
    "    \"\"\"\n",
    "    Returns a generator sampling a sine wave. The sine wave has an \n",
    "    amplitude of 1 and some noise\n",
    "    \"\"\"\n",
    "\n",
    "    rad_phase = np.pi*phase/180.0\n",
    "    model = np.sin(2*np.pi*x + rad_phase)\n",
    "    noise = np.random.rand(*model.shape)*noise\n",
    "    return np.array(model + noise)\n",
    "\n",
    "def gauss_model(x, y, x0: float, y0: float, sigma: float, noise: float=0.0005):\n",
    "    \"\"\"\n",
    "    Returns a generator sampling a gaussian. The gaussian is\n",
    "    normalised such that its maximal value is simply 1\n",
    "    \"\"\"\n",
    "    model = np.exp(-((x0-x)**2+(y0-y)**2)/2/sigma**2)*np.exp(2*sigma**2)\n",
    "    noise = np.random.rand(*model.shape)*noise\n",
    "    return (model + noise)"
   ]
  },
  {
   "cell_type": "code",
   "execution_count": 5,
   "metadata": {
    "tags": []
   },
   "outputs": [
    {
     "name": "stdout",
     "output_type": "stream",
     "text": [
      "starting qchart listener at c:\\users\\nikha\\repos\\qchart\\listener_start.py ...\n",
      "qchart listener successfully started.\n"
     ]
    }
   ],
   "source": [
    "if not listener_is_running():\n",
    "    start_listener()"
   ]
  },
  {
   "attachments": {},
   "cell_type": "markdown",
   "metadata": {},
   "source": [
    "### 1D data in one shot"
   ]
  },
  {
   "cell_type": "code",
   "execution_count": null,
   "metadata": {
    "tags": []
   },
   "outputs": [],
   "source": [
    "# template for sending data through DataSender\n",
    "data_structure = {\n",
    "    'x_param': {\n",
    "        'values': [],\n",
    "        'unit': 'A'\n",
    "    },\n",
    "    'y_param': {\n",
    "        'values': [],\n",
    "        'unit': '',\n",
    "        'axes': ['x_param']\n",
    "    }\n",
    "}\n",
    "\n",
    "# getter function\n",
    "get_sin1 = partial(sine_model, freq=10, phase = 9, noise=0.1)\n",
    "\n",
    "x_vals = np.linspace(3,4,100)\n",
    "y_vals = get_sin1(x_vals)\n",
    "\n",
    "sndr = DataSender(get_new_id())\n",
    "\n",
    "data = copy.deepcopy(data_structure)\n",
    "data['x_param']['values'] = x_vals\n",
    "data['y_param']['values'] = y_vals\n",
    "\n",
    "sndr.send_data(data)"
   ]
  },
  {
   "attachments": {},
   "cell_type": "markdown",
   "metadata": {},
   "source": [
    "### 1D data in 1 shot with 2 outputs"
   ]
  },
  {
   "cell_type": "code",
   "execution_count": null,
   "metadata": {},
   "outputs": [],
   "source": [
    "# template for sending data through DataSender\n",
    "data_structure = {\n",
    "    'x_param': {\n",
    "        'values': [],\n",
    "        'unit': 'mA'\n",
    "    },\n",
    "    'y_param': {\n",
    "        'values': [],\n",
    "        'unit': 'arb',\n",
    "        'axes': ['x_param']\n",
    "    },\n",
    "    'y_param_2': {\n",
    "        'values': [],\n",
    "        'unit': 'arb',\n",
    "        'axes': ['x_param']\n",
    "    }\n",
    "}\n",
    "\n",
    "# getter function\n",
    "get_sin1 = partial(sine_model, freq=10, phase = 9, noise=0.1)\n",
    "get_sin2 = partial(sine_model, freq=12, phase = 99, noise=0.02)\n",
    "\n",
    "x_vals = np.linspace(3,4,100)\n",
    "\n",
    "sndr = DataSender(get_new_id())\n",
    "\n",
    "data = copy.deepcopy(data_structure)\n",
    "data['x_param']['values'] = x_vals\n",
    "data['y_param']['values'] = get_sin1(x_vals)\n",
    "data['y_param_2']['values'] = get_sin2(x_vals)\n",
    "\n",
    "sndr.send_data(data)"
   ]
  },
  {
   "attachments": {},
   "cell_type": "markdown",
   "metadata": {},
   "source": [
    "### Stream 1D data"
   ]
  },
  {
   "cell_type": "code",
   "execution_count": 17,
   "metadata": {},
   "outputs": [],
   "source": [
    "# template for sending data through DataSender\n",
    "data_structure = {\n",
    "    'x_param': {\n",
    "        'values': [],\n",
    "        'unit': 'mA'\n",
    "    },\n",
    "    'y_param': {\n",
    "        'values': [],\n",
    "        'unit': 'arb',\n",
    "        'axes': ['x_param']\n",
    "    },\n",
    "    'y_param_2': {\n",
    "        'values': [],\n",
    "        'unit': 'arb',\n",
    "        'axes': ['x_param']\n",
    "    }\n",
    "}\n",
    "\n",
    "# getter function\n",
    "get_sin1 = partial(sine_model, freq=10, phase = 9, noise=0.1)\n",
    "get_sin2 = partial(sine_model, freq=12, phase = 99, noise=0.02)\n",
    "\n",
    "x_vals = np.linspace(0,100,1000).reshape(20,-1)\n",
    "\n",
    "sndr = DataSender(get_new_id())\n",
    "\n",
    "for x in x_vals:\n",
    "    data = copy.deepcopy(data_structure)\n",
    "    data['x_param']['values'] = x\n",
    "    data['y_param']['values'] = get_sin1(x)\n",
    "    data['y_param_2']['values'] = get_sin2(x)\n",
    "\n",
    "    time.sleep(1.0) # artifical delay to pretent like we're collecting data\n",
    "\n",
    "    sndr.send_data(data)"
   ]
  },
  {
   "attachments": {},
   "cell_type": "markdown",
   "metadata": {},
   "source": [
    "### 2D data in a few shots"
   ]
  },
  {
   "cell_type": "code",
   "execution_count": 6,
   "metadata": {},
   "outputs": [],
   "source": [
    "# template for sending data through DataSender\n",
    "data_structure = {\n",
    "    'x_param': {\n",
    "        'values': [],\n",
    "        'unit': 'mA'\n",
    "    },\n",
    "    'y_param': {\n",
    "        'values': [],\n",
    "        'unit': 'arb',\n",
    "    },\n",
    "    'z_param': {\n",
    "        'values': [],\n",
    "        'unit': 'arb',\n",
    "        'axes': ['x_param','y_param']\n",
    "    }\n",
    "}\n",
    "\n",
    "# getter function\n",
    "get_gauss1 = partial(gauss_model, x0=0, y0=0, sigma=0.2, noise=0.08)\n",
    "\n",
    "x_vals = np.linspace(-0.5,1.5,40)\n",
    "y_vals = np.linspace(-1,1,40)\n",
    "\n",
    "grid = np.stack(np.meshgrid(y_vals,x_vals)).reshape(2,-1).T\n",
    "chunks = 19\n",
    "points_per_send = grid.shape[0] // chunks\n",
    "\n",
    "\n",
    "sndr = DataSender(get_new_id())\n",
    "\n",
    "for ii in range(chunks):\n",
    "    \n",
    "    start = ii*points_per_send\n",
    "    if ii + 1 == chunks:\n",
    "        end = grid.shape[0]\n",
    "    else:\n",
    "        end = (ii + 1)*points_per_send\n",
    "\n",
    "    data = copy.deepcopy(data_structure)\n",
    "    data['x_param']['values'] = grid[start:end,1]\n",
    "    data['y_param']['values'] = grid[start:end,0]\n",
    "    data['z_param']['values'] = get_gauss1(grid[start:end,1], grid[start:end,0])\n",
    "\n",
    "    sndr.send_data(data)\n",
    "\n",
    "    time.sleep(0.5)"
   ]
  },
  {
   "attachments": {},
   "cell_type": "markdown",
   "metadata": {},
   "source": [
    "### 2D point by point"
   ]
  },
  {
   "cell_type": "code",
   "execution_count": 7,
   "metadata": {},
   "outputs": [
    {
     "ename": "KeyboardInterrupt",
     "evalue": "",
     "output_type": "error",
     "traceback": [
      "\u001b[1;31m---------------------------------------------------------------------------\u001b[0m",
      "\u001b[1;31mKeyboardInterrupt\u001b[0m                         Traceback (most recent call last)",
      "Cell \u001b[1;32mIn[7], line 34\u001b[0m\n\u001b[0;32m     31\u001b[0m data[\u001b[39m'\u001b[39m\u001b[39my_param\u001b[39m\u001b[39m'\u001b[39m][\u001b[39m'\u001b[39m\u001b[39mvalues\u001b[39m\u001b[39m'\u001b[39m] \u001b[39m=\u001b[39m y\n\u001b[0;32m     32\u001b[0m data[\u001b[39m'\u001b[39m\u001b[39mz_param\u001b[39m\u001b[39m'\u001b[39m][\u001b[39m'\u001b[39m\u001b[39mvalues\u001b[39m\u001b[39m'\u001b[39m] \u001b[39m=\u001b[39m get_gauss1(x,y)\n\u001b[1;32m---> 34\u001b[0m sndr\u001b[39m.\u001b[39;49msend_data(data)\n\u001b[0;32m     36\u001b[0m time\u001b[39m.\u001b[39msleep(\u001b[39m0.02\u001b[39m)\n",
      "File \u001b[1;32mc:\\users\\nikha\\repos\\qchart\\qchart\\client.py:95\u001b[0m, in \u001b[0;36mDataSender.send_data\u001b[1;34m(self, payload, timeout)\u001b[0m\n\u001b[0;32m     93\u001b[0m socket\u001b[39m.\u001b[39msend(encData)\n\u001b[0;32m     94\u001b[0m socket\u001b[39m.\u001b[39mclose()\n\u001b[1;32m---> 95\u001b[0m context\u001b[39m.\u001b[39;49mterm()\n\u001b[0;32m     97\u001b[0m \u001b[39mif\u001b[39;00m (time\u001b[39m.\u001b[39mtime() \u001b[39m-\u001b[39m t0) \u001b[39m>\u001b[39m (timeout \u001b[39m/\u001b[39m \u001b[39m1000.0\u001b[39m):\n\u001b[0;32m     98\u001b[0m     \u001b[39mprint\u001b[39m(\u001b[39m\"\u001b[39m\u001b[39mTimeout during sending!\u001b[39m\u001b[39m\"\u001b[39m)\n",
      "File \u001b[1;32mc:\\Users\\nikha\\anaconda3\\envs\\simple\\lib\\site-packages\\zmq\\sugar\\context.py:192\u001b[0m, in \u001b[0;36mContext.term\u001b[1;34m(self)\u001b[0m\n\u001b[0;32m    172\u001b[0m \u001b[39mdef\u001b[39;00m \u001b[39mterm\u001b[39m(\u001b[39mself\u001b[39m) \u001b[39m-\u001b[39m\u001b[39m>\u001b[39m \u001b[39mNone\u001b[39;00m:\n\u001b[0;32m    173\u001b[0m \u001b[39m    \u001b[39m\u001b[39m\"\"\"Close or terminate the context.\u001b[39;00m\n\u001b[0;32m    174\u001b[0m \n\u001b[0;32m    175\u001b[0m \u001b[39m    Context termination is performed in the following steps:\u001b[39;00m\n\u001b[1;32m   (...)\u001b[0m\n\u001b[0;32m    190\u001b[0m \u001b[39m    the context will automatically be closed when it is garbage collected.\u001b[39;00m\n\u001b[0;32m    191\u001b[0m \u001b[39m    \"\"\"\u001b[39;00m\n\u001b[1;32m--> 192\u001b[0m     \u001b[39msuper\u001b[39;49m()\u001b[39m.\u001b[39;49mterm()\n",
      "File \u001b[1;32mzmq\\backend\\cython\\context.pyx:83\u001b[0m, in \u001b[0;36mzmq.backend.cython.context.Context.term\u001b[1;34m()\u001b[0m\n",
      "File \u001b[1;32mc:\\Users\\nikha\\anaconda3\\envs\\simple\\lib\\site-packages\\zmq\\backend\\cython\\checkrc.pxd:13\u001b[0m, in \u001b[0;36mzmq.backend.cython.checkrc._check_rc\u001b[1;34m()\u001b[0m\n",
      "\u001b[1;31mKeyboardInterrupt\u001b[0m: "
     ]
    }
   ],
   "source": [
    "# template for sending data through DataSender\n",
    "data_structure = {\n",
    "    'x_param': {\n",
    "        'values': [],\n",
    "        'unit': 'mA'\n",
    "    },\n",
    "    'y_param': {\n",
    "        'values': [],\n",
    "        'unit': 'arb',\n",
    "    },\n",
    "    'z_param': {\n",
    "        'values': [],\n",
    "        'unit': 'arb',\n",
    "        'axes': ['x_param','y_param']\n",
    "    }\n",
    "}\n",
    "\n",
    "# getter function\n",
    "get_gauss1 = partial(gauss_model, x0=0, y0=0, sigma=0.2, noise=0.08)\n",
    "\n",
    "x_vals = np.linspace(-0.5,1.5,40)\n",
    "y_vals = np.linspace(-1,1,40)\n",
    "\n",
    "sndr = DataSender(get_new_id())\n",
    "\n",
    "for x in x_vals:\n",
    "    for y in y_vals:\n",
    "\n",
    "        data = copy.deepcopy(data_structure)\n",
    "        data['x_param']['values'] = x\n",
    "        data['y_param']['values'] = y\n",
    "        data['z_param']['values'] = get_gauss1(x,y)\n",
    "\n",
    "        sndr.send_data(data)\n",
    "\n",
    "        time.sleep(0.02)"
   ]
  },
  {
   "cell_type": "code",
   "execution_count": 11,
   "metadata": {},
   "outputs": [],
   "source": [
    "a = np.array(data['z_param']['values'], dtype=float)"
   ]
  },
  {
   "cell_type": "code",
   "execution_count": 14,
   "metadata": {},
   "outputs": [],
   "source": [
    "v = 0.1"
   ]
  },
  {
   "cell_type": "code",
   "execution_count": 19,
   "metadata": {},
   "outputs": [
    {
     "data": {
      "text/plain": [
       "array([0.1])"
      ]
     },
     "execution_count": 19,
     "metadata": {},
     "output_type": "execute_result"
    }
   ],
   "source": [
    "np.array(v, dtype=float).reshape((-1,))"
   ]
  },
  {
   "cell_type": "code",
   "execution_count": null,
   "metadata": {},
   "outputs": [],
   "source": []
  }
 ],
 "metadata": {
  "kernelspec": {
   "display_name": "Python 3 (ipykernel)",
   "language": "python",
   "name": "python3"
  },
  "language_info": {
   "codemirror_mode": {
    "name": "ipython",
    "version": 3
   },
   "file_extension": ".py",
   "mimetype": "text/x-python",
   "name": "python",
   "nbconvert_exporter": "python",
   "pygments_lexer": "ipython3",
   "version": "3.10.13"
  }
 },
 "nbformat": 4,
 "nbformat_minor": 4
}
