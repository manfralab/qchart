{
 "cells": [
  {
   "cell_type": "code",
   "execution_count": 1,
   "metadata": {
    "tags": []
   },
   "outputs": [],
   "source": [
    "from qchart import start_listener, listener_is_running\n",
    "from qchart.client import DataSender\n",
    "from datetime import datetime\n",
    "import copy\n",
    "import time\n",
    "import numpy as np\n",
    "\n",
    "def get_new_id():\n",
    "    # use this to tag datasets\n",
    "    t = datetime.now().strftime('%Y-%M-%d_%H-%M-%S-%f')\n",
    "    return f'test_nik_{t}'"
   ]
  },
  {
   "cell_type": "code",
   "execution_count": 2,
   "metadata": {},
   "outputs": [],
   "source": [
    "from functools import partial\n",
    "\n",
    "def sine_model(x, freq: float, phase: float, noise: float=1):\n",
    "    \"\"\"\n",
    "    Returns a generator sampling a sine wave. The sine wave has an \n",
    "    amplitude of 1 and some noise\n",
    "    \"\"\"\n",
    "\n",
    "    rad_phase = np.pi*phase/180.0\n",
    "    model = np.sin(2*np.pi*x + rad_phase)\n",
    "    noise = np.random.rand(*x.shape)*noise\n",
    "    return np.array(model + noise)\n",
    "\n",
    "def gauss_model(x, y, x0: float, y0: float, sigma: float, noise: float=0.0005):\n",
    "    \"\"\"\n",
    "    Returns a generator sampling a gaussian. The gaussian is\n",
    "    normalised such that its maximal value is simply 1\n",
    "    \"\"\"\n",
    "    model = np.exp(-((x0-x)**2+(y0-y)**2)/2/sigma**2)*np.exp(2*sigma**2)\n",
    "    noise = np.random.randn()*noise     \n",
    "    return (model + noise)"
   ]
  },
  {
   "cell_type": "code",
   "execution_count": 3,
   "metadata": {
    "tags": []
   },
   "outputs": [
    {
     "name": "stdout",
     "output_type": "stream",
     "text": [
      "starting qchart listener at c:\\users\\nikha\\repos\\qchart\\listener_start.py ...\n",
      "qchart listener successfully started.\n"
     ]
    }
   ],
   "source": [
    "if not listener_is_running():\n",
    "    start_listener()"
   ]
  },
  {
   "attachments": {},
   "cell_type": "markdown",
   "metadata": {},
   "source": [
    "### 1D data in one shot"
   ]
  },
  {
   "cell_type": "code",
   "execution_count": 4,
   "metadata": {
    "tags": []
   },
   "outputs": [],
   "source": [
    "# template for sending data through DataSender\n",
    "data_structure = {\n",
    "    'x_param': {\n",
    "        'values': [],\n",
    "        'unit': 'A'\n",
    "    },\n",
    "    'y_param': {\n",
    "        'values': [],\n",
    "        'unit': '',\n",
    "        'axes': ['x_param']\n",
    "    }\n",
    "}\n",
    "\n",
    "# getter function\n",
    "get_sin1 = partial(sine_model, freq=10, phase = 9, noise=0.1)\n",
    "\n",
    "x_vals = np.linspace(3,4,100)\n",
    "y_vals = get_sin1(x_vals)\n",
    "\n",
    "sndr = DataSender(get_new_id())\n",
    "\n",
    "data = copy.deepcopy(data_structure)\n",
    "data['x_param']['values'] = x_vals\n",
    "data['y_param']['values'] = y_vals\n",
    "\n",
    "sndr.send_data(data)"
   ]
  },
  {
   "attachments": {},
   "cell_type": "markdown",
   "metadata": {},
   "source": [
    "### 1D data in 1 shot with 2 outputs"
   ]
  },
  {
   "cell_type": "code",
   "execution_count": null,
   "metadata": {},
   "outputs": [],
   "source": [
    "# template for sending data through DataSender\n",
    "data_structure = {\n",
    "    'x_param': {\n",
    "        'values': [],\n",
    "        'unit': 'mA'\n",
    "    },\n",
    "    'y_param': {\n",
    "        'values': [],\n",
    "        'unit': 'arb',\n",
    "        'axes': ['x_param']\n",
    "    },\n",
    "    'y_param_2': {\n",
    "        'values': [],\n",
    "        'unit': 'arb',\n",
    "        'axes': ['x_param']\n",
    "    }\n",
    "}\n",
    "\n",
    "# getter function\n",
    "get_sin1 = partial(sine_model, freq=10, phase = 9, noise=0.1)\n",
    "get_sin2 = partial(sine_model, freq=12, phase = 99, noise=0.02)\n",
    "\n",
    "x_vals = np.linspace(3,4,100)\n",
    "\n",
    "sndr = DataSender(get_new_id())\n",
    "\n",
    "data = copy.deepcopy(data_structure)\n",
    "data['x_param']['values'] = x_vals\n",
    "data['y_param']['values'] = get_sin1(x_vals)\n",
    "data['y_param_2']['values'] = get_sin2(x_vals)\n",
    "\n",
    "sndr.send_data(data)"
   ]
  },
  {
   "attachments": {},
   "cell_type": "markdown",
   "metadata": {},
   "source": [
    "### Stream 1D data"
   ]
  },
  {
   "cell_type": "code",
   "execution_count": null,
   "metadata": {},
   "outputs": [],
   "source": [
    "# template for sending data through DataSender\n",
    "data_structure = {\n",
    "    'x_param': {\n",
    "        'values': [],\n",
    "        'unit': 'mA'\n",
    "    },\n",
    "    'y_param': {\n",
    "        'values': [],\n",
    "        'unit': 'arb',\n",
    "        'axes': ['x_param']\n",
    "    },\n",
    "    'y_param_2': {\n",
    "        'values': [],\n",
    "        'unit': 'arb',\n",
    "        'axes': ['x_param']\n",
    "    }\n",
    "}\n",
    "\n",
    "# getter function\n",
    "get_sin1 = partial(sine_model, freq=10, phase = 9, noise=0.1)\n",
    "get_sin2 = partial(sine_model, freq=12, phase = 99, noise=0.02)\n",
    "\n",
    "x_vals = np.linspace(0,100,1000).reshape(20,-1)\n",
    "\n",
    "sndr = DataSender(get_new_id())\n",
    "\n",
    "for x in x_vals:\n",
    "    data = copy.deepcopy(data_structure)\n",
    "    data['x_param']['values'] = x\n",
    "    data['y_param']['values'] = get_sin1(x)\n",
    "    data['y_param_2']['values'] = get_sin2(x)\n",
    "\n",
    "    time.sleep(1.0) # artifical delay to pretent like we're collecting data\n",
    "\n",
    "    sndr.send_data(data)"
   ]
  },
  {
   "attachments": {},
   "cell_type": "markdown",
   "metadata": {},
   "source": [
    "### 2D data in 1 shot"
   ]
  },
  {
   "cell_type": "code",
   "execution_count": 5,
   "metadata": {},
   "outputs": [],
   "source": [
    "# template for sending data through DataSender\n",
    "data_structure = {\n",
    "    'x_param': {\n",
    "        'values': [],\n",
    "        'unit': 'mA'\n",
    "    },\n",
    "    'y_param': {\n",
    "        'values': [],\n",
    "        'unit': 'arb',\n",
    "    },\n",
    "    'z_param': {\n",
    "        'values': [],\n",
    "        'unit': 'arb',\n",
    "        'axes': ['x_param','y_param']\n",
    "    }\n",
    "}\n",
    "\n",
    "# getter function\n",
    "get_gauss1 = partial(gauss_model, x0=0, y0=0, sigma=0.1, noise=0.05)\n",
    "\n",
    "x_vals = np.linspace(0,1,15)\n",
    "y_vals = np.linspace(-1,1,15)\n",
    "\n",
    "grid = np.stack(np.meshgrid(y_vals,x_vals)).reshape(2,-1).T\n",
    "\n",
    "sndr = DataSender(get_new_id())\n",
    "\n",
    "data = copy.deepcopy(data_structure)\n",
    "data['x_param']['values'] = grid[:,1]\n",
    "data['y_param']['values'] = grid[:,0]\n",
    "data['z_param']['values'] = get_gauss1(grid[:,1], grid[:,0])\n",
    "\n",
    "sndr.send_data(data)"
   ]
  },
  {
   "cell_type": "code",
   "execution_count": null,
   "metadata": {},
   "outputs": [],
   "source": []
  }
 ],
 "metadata": {
  "kernelspec": {
   "display_name": "Python 3 (ipykernel)",
   "language": "python",
   "name": "python3"
  },
  "language_info": {
   "codemirror_mode": {
    "name": "ipython",
    "version": 3
   },
   "file_extension": ".py",
   "mimetype": "text/x-python",
   "name": "python",
   "nbconvert_exporter": "python",
   "pygments_lexer": "ipython3",
   "version": "3.10.13"
  }
 },
 "nbformat": 4,
 "nbformat_minor": 4
}
