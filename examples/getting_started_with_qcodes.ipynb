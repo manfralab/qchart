{
 "cells": [
  {
   "cell_type": "markdown",
   "metadata": {},
   "source": [
    "# using `qcodes`/`qchar` with `qchart`"
   ]
  },
  {
   "cell_type": "markdown",
   "metadata": {},
   "source": [
    "standard imports..."
   ]
  },
  {
   "cell_type": "code",
   "execution_count": 1,
   "metadata": {},
   "outputs": [],
   "source": [
    "%matplotlib notebook\n",
    "import matplotlib as mpl\n",
    "import matplotlib.pyplot as plt\n",
    "import time\n",
    "from pathlib import Path\n",
    "import numpy as np"
   ]
  },
  {
   "cell_type": "markdown",
   "metadata": {},
   "source": [
    "Imports and setup for saving and plotting data"
   ]
  },
  {
   "cell_type": "code",
   "execution_count": 2,
   "metadata": {
    "scrolled": false
   },
   "outputs": [
    {
     "name": "stdout",
     "output_type": "stream",
     "text": [
      "Logging hadn't been started.\n",
      "Activating auto-logging. Current session state plus future input saved.\n",
      "Filename       : C:\\Users\\manfra-lab\\.qcodes\\logs\\command_history.log\n",
      "Mode           : append\n",
      "Output logging : True\n",
      "Raw input log  : False\n",
      "Timestamping   : True\n",
      "State          : active\n",
      "Qcodes Logfile : C:\\Users\\manfra-lab\\.qcodes\\logs\\200113-4840-qcodes.log\n"
     ]
    },
    {
     "data": {
      "text/plain": [
       "qchart#None#1@C:\\Users\\manfra-lab\\Repos\\qchart\\.logs\\test_plots.db\n",
       "------------------------------------------------------------------"
      ]
     },
     "execution_count": 2,
     "metadata": {},
     "output_type": "execute_result"
    }
   ],
   "source": [
    "# first some imports to handle the data saving\n",
    "import qcodes as qc\n",
    "from qcodes import initialise_database\n",
    "from qcodes.dataset.experiment_container import load_or_create_experiment\n",
    "from qchart import start_listener, listener_is_running, add_qcodes_subscriber\n",
    "from qchart import get_log_directory\n",
    "\n",
    "db_path = Path(get_log_directory(), 'test_plots.db')\n",
    "db_path.parents[0].mkdir(parents=True, exist_ok=True)\n",
    "qc.config.current_config.core.db_location = str(db_path)\n",
    "\n",
    "initialise_database()  # just in case no database file exists\n",
    "load_or_create_experiment(\"qchart\", sample_name=\"None\")"
   ]
  },
  {
   "cell_type": "code",
   "execution_count": 12,
   "metadata": {},
   "outputs": [
    {
     "name": "stdout",
     "output_type": "stream",
     "text": [
      "starting qchart listener at c:\\users\\manfra-lab\\repos\\qchart\\listener_start.py ...\n",
      "qchart listener successfully started.\n"
     ]
    }
   ],
   "source": [
    "add_qcodes_subscriber(qc.config.current_config)\n",
    "start_listener()"
   ]
  },
  {
   "cell_type": "markdown",
   "metadata": {},
   "source": [
    "### Setup DummyInstr"
   ]
  },
  {
   "cell_type": "code",
   "execution_count": 4,
   "metadata": {},
   "outputs": [],
   "source": [
    "# and the imports I need to do the measurement\n",
    "from qcodes.tests.instrument_mocks import DummyInstrument\n",
    "from qcodes.dataset.measurements import Measurement\n",
    "from qcodes.dataset.plotting import plot_dataset\n",
    "\n",
    "# making some fake instruments\n",
    "try:\n",
    "    dac = DummyInstrument('zed', gates=['ch1', 'ch2']) # to set\n",
    "    dmm = DummyInstrument('bob', gates=['v1', 'v2'])   # to get\n",
    "except KeyError:\n",
    "    pass"
   ]
  },
  {
   "cell_type": "code",
   "execution_count": 5,
   "metadata": {},
   "outputs": [],
   "source": [
    "from functools import partial\n",
    "\n",
    "# and we'll make a 2D gaussian to sample from/measure\n",
    "def gauss_model(x0: float, y0: float, sigma: float, noise: float=0.0005):\n",
    "    \"\"\"\n",
    "    Returns a generator sampling a gaussian. The gaussian is\n",
    "    normalised such that its maximal value is simply 1\n",
    "    \"\"\"\n",
    "    while True:\n",
    "        (x, y) = yield\n",
    "        model = np.exp(-((x0-x)**2+(y0-y)**2)/2/sigma**2)*np.exp(2*sigma**2)\n",
    "        noise = np.random.randn()*noise\n",
    "        yield (model + noise)\n",
    "        \n",
    "# connect the dmm.v1 to \"measure\" the gaussian\n",
    "\n",
    "gauss1 = gauss_model(0.1, 0.2, 0.25)\n",
    "next(gauss1)\n",
    "\n",
    "gauss2 = gauss_model(-0.2, 0.1, 0.5)\n",
    "next(gauss2)\n",
    "\n",
    "def measure_gauss1(dac):\n",
    "    val = gauss1.send((dac.ch1.get(), dac.ch2.get()))\n",
    "    next(gauss1)\n",
    "    return val\n",
    "\n",
    "def measure_gauss2(dac):\n",
    "    val = gauss2.send((dac.ch1.get(), dac.ch2.get()))\n",
    "    next(gauss2)\n",
    "    return val*1e-9\n",
    "\n",
    "dmm.v1.get = partial(measure_gauss1, dac)\n",
    "dmm.v2.get = partial(measure_gauss2, dac)"
   ]
  },
  {
   "cell_type": "markdown",
   "metadata": {},
   "source": [
    "### sweeps with a 'grid'"
   ]
  },
  {
   "cell_type": "code",
   "execution_count": 6,
   "metadata": {
    "scrolled": false
   },
   "outputs": [],
   "source": [
    "exp = load_or_create_experiment(experiment_name='testing',\n",
    "                                sample_name=\"no_sample\")\n",
    "\n",
    "def do1d(param_set, xarray, delay, *param_meas):\n",
    "\n",
    "    meas = Measurement(exp=exp)\n",
    "    meas.write_period = 0.5\n",
    "    \n",
    "    meas.register_parameter(param_set)\n",
    "    \n",
    "    output = []\n",
    "    for pm in param_meas:\n",
    "        meas.register_parameter(pm, setpoints=(param_set,))\n",
    "        output.append([pm, None])\n",
    "        \n",
    "    with meas.run() as ds:\n",
    "\n",
    "        for x in xarray:\n",
    "            param_set.set(x)\n",
    "            time.sleep(delay)\n",
    "            for i, parameter in enumerate(param_meas):\n",
    "                output[i][1] = parameter.get()\n",
    "            \n",
    "            ds.add_result((param_set, x),\n",
    "                                 *output)\n",
    "    \n",
    "        return ds.dataset\n",
    "\n",
    "def do2d_grid(param_set1, xarray, delay1,\n",
    "              param_set2, yarray, delay2,\n",
    "              *param_meas):\n",
    "\n",
    "    meas = Measurement(exp=exp)\n",
    "    meas.write_period = 0.5\n",
    "    \n",
    "    meas.register_parameter(param_set1)\n",
    "    meas.register_parameter(param_set2)\n",
    "\n",
    "    output = []\n",
    "    for parameter in param_meas:\n",
    "        meas.register_parameter(parameter, setpoints=(param_set1,param_set2))\n",
    "        output.append([parameter, None])\n",
    "\n",
    "    with meas.run() as ds:\n",
    "        \n",
    "        for y in yarray:\n",
    "            param_set2.set(y)\n",
    "            time.sleep(delay2)\n",
    "            for x in xarray:\n",
    "                param_set1.set(x)\n",
    "                time.sleep(delay1)\n",
    "                for i, parameter in enumerate(param_meas):\n",
    "                    output[i][1] = parameter.get()\n",
    "                ds.add_result((param_set1, x),\n",
    "                              (param_set2, y),\n",
    "                              *output)\n",
    "        time.sleep(0.2)\n",
    "        \n",
    "        return ds.dataset  "
   ]
  },
  {
   "cell_type": "code",
   "execution_count": null,
   "metadata": {},
   "outputs": [
    {
     "name": "stdout",
     "output_type": "stream",
     "text": [
      "Starting experimental run with id: 5. \n"
     ]
    }
   ],
   "source": [
    "xarr = np.linspace(-1,2,150)\n",
    "ds = do1d(dac.ch1, xarr, 0.2, dmm.v1, dmm.v2)"
   ]
  },
  {
   "cell_type": "code",
   "execution_count": 11,
   "metadata": {
    "scrolled": false
   },
   "outputs": [
    {
     "name": "stdout",
     "output_type": "stream",
     "text": [
      "Starting experimental run with id: 4. \n"
     ]
    }
   ],
   "source": [
    "xarr = np.linspace(-1,2,15)\n",
    "yarr = np.linspace(-1,1,10)\n",
    "ds = do2d_grid(dac.ch1, xarr, 0.2, dac.ch2, yarr, 0.3, dmm.v1, dmm.v2)"
   ]
  },
  {
   "cell_type": "markdown",
   "metadata": {},
   "source": [
    "### sweeps with ridiculous spacing"
   ]
  },
  {
   "cell_type": "code",
   "execution_count": 9,
   "metadata": {},
   "outputs": [],
   "source": [
    "def get_x():\n",
    "    return np.random.uniform(low=-1.0, high=2.0)\n",
    "\n",
    "def get_y():\n",
    "    return np.random.uniform(low=-1.0, high=1.0)\n",
    "\n",
    "def do2d_rand(param_set1, param_set2, n, delay,\n",
    "              *param_meas):\n",
    "\n",
    "    meas = Measurement()\n",
    "    meas.write_period = 0.5\n",
    "    \n",
    "    meas.register_parameter(param_set1)\n",
    "    param_set1.post_delay = 0\n",
    "    meas.register_parameter(param_set2)\n",
    "    param_set2.post_delay = 0\n",
    "\n",
    "    output = []\n",
    "    for parameter in param_meas:\n",
    "        meas.register_parameter(parameter, setpoints=(param_set1,param_set2))\n",
    "        output.append([parameter, None])\n",
    "\n",
    "    with meas.run() as ds:\n",
    "        \n",
    "        for i in range(n):\n",
    "                \n",
    "                x = get_x()\n",
    "                param_set1.set(x)\n",
    "                \n",
    "                y = get_y()\n",
    "                param_set2.set(y)\n",
    "                \n",
    "                time.sleep(delay)\n",
    "                for i, parameter in enumerate(param_meas):\n",
    "                    output[i][1] = parameter.get()\n",
    "                ds.add_result((param_set1, x),\n",
    "                                     (param_set2, y),\n",
    "                                     *output)\n",
    "        time.sleep(0.2)\n",
    "        \n",
    "    return ds.run_id  # convenient to have for plotting"
   ]
  },
  {
   "cell_type": "code",
   "execution_count": 10,
   "metadata": {
    "scrolled": false
   },
   "outputs": [
    {
     "name": "stdout",
     "output_type": "stream",
     "text": [
      "Starting experimental run with id: 3. \n"
     ]
    }
   ],
   "source": [
    "ds = do2d_rand(dac.ch1, dac.ch2, 250, 0.1, dmm.v1, dmm.v2)"
   ]
  },
  {
   "cell_type": "code",
   "execution_count": null,
   "metadata": {},
   "outputs": [],
   "source": []
  }
 ],
 "metadata": {
  "kernelspec": {
   "display_name": "Python 3",
   "language": "python",
   "name": "python3"
  },
  "language_info": {
   "codemirror_mode": {
    "name": "ipython",
    "version": 3
   },
   "file_extension": ".py",
   "mimetype": "text/x-python",
   "name": "python",
   "nbconvert_exporter": "python",
   "pygments_lexer": "ipython3",
   "version": "3.7.6"
  }
 },
 "nbformat": 4,
 "nbformat_minor": 2
}
