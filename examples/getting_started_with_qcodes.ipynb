{
 "cells": [
  {
   "cell_type": "markdown",
   "metadata": {},
   "source": [
    "# using `qcodes`/`qchar` with `qchart`"
   ]
  },
  {
   "cell_type": "markdown",
   "metadata": {},
   "source": [
    "standard imports..."
   ]
  },
  {
   "cell_type": "code",
   "execution_count": 2,
   "metadata": {},
   "outputs": [],
   "source": [
    "%load_ext autoreload\n",
    "%autoreload 2\n",
    "\n",
    "%matplotlib notebook\n",
    "import matplotlib as mpl\n",
    "import matplotlib.pyplot as plt\n",
    "import time\n",
    "from pathlib import Path\n",
    "import numpy as np"
   ]
  },
  {
   "cell_type": "markdown",
   "metadata": {},
   "source": [
    "Imports and setup for saving and plotting data"
   ]
  },
  {
   "cell_type": "code",
   "execution_count": 3,
   "metadata": {
    "scrolled": false
   },
   "outputs": [
    {
     "name": "stdout",
     "output_type": "stream",
     "text": [
      "qchart listener is already running.\n"
     ]
    }
   ],
   "source": [
    "# first some imports to handle the data saving\n",
    "import qcodes as qc\n",
    "from qcodes import initialise_database\n",
    "from qcodes.dataset.experiment_container import load_or_create_experiment\n",
    "from qchart import start_listener, listener_is_running, add_qcodes_subscriber\n",
    "\n",
    "db_path = Path('../_logs/data/test_plots.db')\n",
    "db_path.parents[0].mkdir(parents=True, exist_ok=True)\n",
    "qc.config.current_config.core.db_location = str(db_path)\n",
    "\n",
    "initialise_database()  # just in case no database file exists\n",
    "load_or_create_experiment(\"qchart\", sample_name=\"None\")\n",
    "\n",
    "add_qcodes_subscriber(qc.config.current_config)\n",
    "start_listener()"
   ]
  },
  {
   "cell_type": "markdown",
   "metadata": {},
   "source": [
    "### Setup DummyInstr"
   ]
  },
  {
   "cell_type": "code",
   "execution_count": 3,
   "metadata": {},
   "outputs": [],
   "source": [
    "# and the imports I need to do the measurement\n",
    "from qcodes.tests.instrument_mocks import DummyInstrument\n",
    "from qcodes.dataset.measurements import Measurement\n",
    "from qcodes.dataset.plotting import plot_dataset\n",
    "\n",
    "# making some fake instruments\n",
    "try:\n",
    "    dac = DummyInstrument('zed', gates=['ch1', 'ch2']) # to set\n",
    "    dmm = DummyInstrument('bob', gates=['v1', 'v2'])   # to get\n",
    "except KeyError:\n",
    "    pass"
   ]
  },
  {
   "cell_type": "code",
   "execution_count": 4,
   "metadata": {},
   "outputs": [],
   "source": [
    "from functools import partial\n",
    "\n",
    "# and we'll make a 2D gaussian to sample from/measure\n",
    "def gauss_model(x0: float, y0: float, sigma: float, noise: float=0.0005):\n",
    "    \"\"\"\n",
    "    Returns a generator sampling a gaussian. The gaussian is\n",
    "    normalised such that its maximal value is simply 1\n",
    "    \"\"\"\n",
    "    while True:\n",
    "        (x, y) = yield\n",
    "        model = np.exp(-((x0-x)**2+(y0-y)**2)/2/sigma**2)*np.exp(2*sigma**2)\n",
    "        noise = np.random.randn()*noise\n",
    "        yield (model + noise)\n",
    "        \n",
    "# connect the dmm.v1 to \"measure\" the gaussian\n",
    "\n",
    "gauss1 = gauss_model(0.1, 0.2, 0.25)\n",
    "next(gauss1)\n",
    "\n",
    "gauss2 = gauss_model(-0.2, 0.1, 0.5)\n",
    "next(gauss2)\n",
    "\n",
    "def measure_gauss1(dac):\n",
    "    val = gauss1.send((dac.ch1.get(), dac.ch2.get()))\n",
    "    next(gauss1)\n",
    "    return val\n",
    "\n",
    "def measure_gauss2(dac):\n",
    "    val = gauss2.send((dac.ch1.get(), dac.ch2.get()))\n",
    "    next(gauss2)\n",
    "    return val*1e-9\n",
    "\n",
    "dmm.v1.get = partial(measure_gauss1, dac)\n",
    "dmm.v2.get = partial(measure_gauss2, dac)"
   ]
  },
  {
   "cell_type": "markdown",
   "metadata": {},
   "source": [
    "### sweeps with a 'grid'"
   ]
  },
  {
   "cell_type": "code",
   "execution_count": 5,
   "metadata": {
    "scrolled": false
   },
   "outputs": [],
   "source": [
    "def do1d(param_set, xarray, delay, *param_meas):\n",
    "\n",
    "    meas = Measurement()\n",
    "    meas.write_period = 0.5\n",
    "    \n",
    "    meas.register_parameter(param_set)\n",
    "    param_set.post_delay = 0\n",
    "    \n",
    "    output = []\n",
    "    for pm in param_meas:\n",
    "        meas.register_parameter(pm, setpoints=(param_set,))\n",
    "        output.append([pm, None])\n",
    "        \n",
    "    with meas.run() as ds:\n",
    "\n",
    "        for x in xarray:\n",
    "            param_set.set(x)\n",
    "            time.sleep(delay)\n",
    "            for i, parameter in enumerate(param_meas):\n",
    "                output[i][1] = parameter.get()\n",
    "            \n",
    "            ds.add_result((param_set, x),\n",
    "                                 *output)\n",
    "    \n",
    "        return ds.dataset\n",
    "\n",
    "def do2d_grid(param_set1, xarray, delay1,\n",
    "              param_set2, yarray, delay2,\n",
    "              *param_meas):\n",
    "\n",
    "    meas = Measurement()\n",
    "    meas.write_period = 0.5\n",
    "    \n",
    "    meas.register_parameter(param_set1)\n",
    "    param_set1.post_delay = 0\n",
    "    meas.register_parameter(param_set2)\n",
    "    param_set2.post_delay = 0\n",
    "\n",
    "    output = []\n",
    "    for parameter in param_meas:\n",
    "        meas.register_parameter(parameter, setpoints=(param_set1,param_set2))\n",
    "        output.append([parameter, None])\n",
    "\n",
    "    with meas.run() as ds:\n",
    "        \n",
    "        for y in yarray:\n",
    "            param_set2.set(y)\n",
    "            time.sleep(delay2)\n",
    "            for x in xarray:\n",
    "                param_set1.set(x)\n",
    "                time.sleep(delay1)\n",
    "                for i, parameter in enumerate(param_meas):\n",
    "                    output[i][1] = parameter.get()\n",
    "                ds.add_result((param_set1, x),\n",
    "                              (param_set2, y),\n",
    "                              *output)\n",
    "        time.sleep(0.2)\n",
    "        \n",
    "        return ds.dataset  "
   ]
  },
  {
   "cell_type": "code",
   "execution_count": 6,
   "metadata": {},
   "outputs": [
    {
     "name": "stdout",
     "output_type": "stream",
     "text": [
      "Starting experimental run with id: 26\n"
     ]
    }
   ],
   "source": [
    "xarr = np.linspace(-1,2,150)\n",
    "ds = do1d(dac.ch1, xarr, 0.2, dmm.v1, dmm.v2)"
   ]
  },
  {
   "cell_type": "code",
   "execution_count": 7,
   "metadata": {
    "scrolled": false
   },
   "outputs": [
    {
     "name": "stdout",
     "output_type": "stream",
     "text": [
      "Starting experimental run with id: 27\n"
     ]
    }
   ],
   "source": [
    "xarr = np.linspace(-1,2,15)\n",
    "yarr = np.linspace(-1,1,10)\n",
    "ds = do2d_grid(dac.ch1, xarr, 0.2, dac.ch2, yarr, 0.3, dmm.v1, dmm.v2)"
   ]
  },
  {
   "cell_type": "code",
   "execution_count": 10,
   "metadata": {},
   "outputs": [],
   "source": [
    "from shockley.sweeps import do1d as one_d_sweep"
   ]
  },
  {
   "cell_type": "code",
   "execution_count": 11,
   "metadata": {},
   "outputs": [
    {
     "name": "stdout",
     "output_type": "stream",
     "text": [
      "Starting experimental run with id: 21\n"
     ]
    }
   ],
   "source": [
    "xarr = np.linspace(-1,2,150)\n",
    "ds = one_d_sweep(dac.ch1, xarr, 0.2, dmm.v1, dmm.v2)"
   ]
  },
  {
   "cell_type": "markdown",
   "metadata": {},
   "source": [
    "### sweeps with ridiculous spacing"
   ]
  },
  {
   "cell_type": "code",
   "execution_count": 10,
   "metadata": {},
   "outputs": [],
   "source": [
    "def get_x():\n",
    "    return np.random.uniform(low=-1.0, high=2.0)\n",
    "\n",
    "def get_y():\n",
    "    return np.random.uniform(low=-1.0, high=1.0)\n",
    "\n",
    "def do2d_rand(param_set1, param_set2, n, delay,\n",
    "              *param_meas):\n",
    "\n",
    "    meas = Measurement()\n",
    "    meas.write_period = 0.5\n",
    "    \n",
    "    meas.register_parameter(param_set1)\n",
    "    param_set1.post_delay = 0\n",
    "    meas.register_parameter(param_set2)\n",
    "    param_set2.post_delay = 0\n",
    "\n",
    "    output = []\n",
    "    for parameter in param_meas:\n",
    "        meas.register_parameter(parameter, setpoints=(param_set1,param_set2))\n",
    "        output.append([parameter, None])\n",
    "\n",
    "    with meas.run() as ds:\n",
    "        \n",
    "        for i in range(n):\n",
    "                \n",
    "                x = get_x()\n",
    "                param_set1.set(x)\n",
    "                \n",
    "                y = get_y()\n",
    "                param_set2.set(y)\n",
    "                \n",
    "                time.sleep(delay)\n",
    "                for i, parameter in enumerate(param_meas):\n",
    "                    output[i][1] = parameter.get()\n",
    "                ds.add_result((param_set1, x),\n",
    "                                     (param_set2, y),\n",
    "                                     *output)\n",
    "        time.sleep(0.2)\n",
    "        \n",
    "    return ds.run_id  # convenient to have for plotting"
   ]
  },
  {
   "cell_type": "code",
   "execution_count": 12,
   "metadata": {
    "scrolled": false
   },
   "outputs": [
    {
     "name": "stdout",
     "output_type": "stream",
     "text": [
      "Starting experimental run with id: 24\n"
     ]
    },
    {
     "name": "stderr",
     "output_type": "stream",
     "text": [
      "An exception occured in measurement with guid: aaaaaaaa-0000-0000-0000-016e700a5c60;\n",
      "Traceback:\n",
      "Traceback (most recent call last):\n",
      "  File \"<ipython-input-10-f1dcdd587c1f>\", line 33, in do2d_rand\n",
      "    time.sleep(delay)\n",
      "KeyboardInterrupt\n",
      "\n"
     ]
    },
    {
     "ename": "KeyboardInterrupt",
     "evalue": "",
     "output_type": "error",
     "traceback": [
      "\u001b[1;31m---------------------------------------------------------------------------\u001b[0m",
      "\u001b[1;31mKeyboardInterrupt\u001b[0m                         Traceback (most recent call last)",
      "\u001b[1;32m<ipython-input-12-7de9fad7a03a>\u001b[0m in \u001b[0;36m<module>\u001b[1;34m\u001b[0m\n\u001b[1;32m----> 1\u001b[1;33m \u001b[0mds\u001b[0m \u001b[1;33m=\u001b[0m \u001b[0mdo2d_rand\u001b[0m\u001b[1;33m(\u001b[0m\u001b[0mdac\u001b[0m\u001b[1;33m.\u001b[0m\u001b[0mch1\u001b[0m\u001b[1;33m,\u001b[0m \u001b[0mdac\u001b[0m\u001b[1;33m.\u001b[0m\u001b[0mch2\u001b[0m\u001b[1;33m,\u001b[0m \u001b[1;36m250\u001b[0m\u001b[1;33m,\u001b[0m \u001b[1;36m0.1\u001b[0m\u001b[1;33m,\u001b[0m \u001b[0mdmm\u001b[0m\u001b[1;33m.\u001b[0m\u001b[0mv1\u001b[0m\u001b[1;33m,\u001b[0m \u001b[0mdmm\u001b[0m\u001b[1;33m.\u001b[0m\u001b[0mv2\u001b[0m\u001b[1;33m)\u001b[0m\u001b[1;33m\u001b[0m\u001b[1;33m\u001b[0m\u001b[0m\n\u001b[0m",
      "\u001b[1;32m<ipython-input-10-f1dcdd587c1f>\u001b[0m in \u001b[0;36mdo2d_rand\u001b[1;34m(param_set1, param_set2, n, delay, *param_meas)\u001b[0m\n\u001b[0;32m     31\u001b[0m                 \u001b[0mparam_set2\u001b[0m\u001b[1;33m.\u001b[0m\u001b[0mset\u001b[0m\u001b[1;33m(\u001b[0m\u001b[0my\u001b[0m\u001b[1;33m)\u001b[0m\u001b[1;33m\u001b[0m\u001b[1;33m\u001b[0m\u001b[0m\n\u001b[0;32m     32\u001b[0m \u001b[1;33m\u001b[0m\u001b[0m\n\u001b[1;32m---> 33\u001b[1;33m                 \u001b[0mtime\u001b[0m\u001b[1;33m.\u001b[0m\u001b[0msleep\u001b[0m\u001b[1;33m(\u001b[0m\u001b[0mdelay\u001b[0m\u001b[1;33m)\u001b[0m\u001b[1;33m\u001b[0m\u001b[1;33m\u001b[0m\u001b[0m\n\u001b[0m\u001b[0;32m     34\u001b[0m                 \u001b[1;32mfor\u001b[0m \u001b[0mi\u001b[0m\u001b[1;33m,\u001b[0m \u001b[0mparameter\u001b[0m \u001b[1;32min\u001b[0m \u001b[0menumerate\u001b[0m\u001b[1;33m(\u001b[0m\u001b[0mparam_meas\u001b[0m\u001b[1;33m)\u001b[0m\u001b[1;33m:\u001b[0m\u001b[1;33m\u001b[0m\u001b[1;33m\u001b[0m\u001b[0m\n\u001b[0;32m     35\u001b[0m                     \u001b[0moutput\u001b[0m\u001b[1;33m[\u001b[0m\u001b[0mi\u001b[0m\u001b[1;33m]\u001b[0m\u001b[1;33m[\u001b[0m\u001b[1;36m1\u001b[0m\u001b[1;33m]\u001b[0m \u001b[1;33m=\u001b[0m \u001b[0mparameter\u001b[0m\u001b[1;33m.\u001b[0m\u001b[0mget\u001b[0m\u001b[1;33m(\u001b[0m\u001b[1;33m)\u001b[0m\u001b[1;33m\u001b[0m\u001b[1;33m\u001b[0m\u001b[0m\n",
      "\u001b[1;31mKeyboardInterrupt\u001b[0m: "
     ]
    }
   ],
   "source": [
    "ds = do2d_rand(dac.ch1, dac.ch2, 250, 0.1, dmm.v1, dmm.v2)"
   ]
  }
 ],
 "metadata": {
  "kernelspec": {
   "display_name": "Python3 (qchar-qchart)",
   "language": "python",
   "name": "qchar"
  },
  "language_info": {
   "codemirror_mode": {
    "name": "ipython",
    "version": 3
   },
   "file_extension": ".py",
   "mimetype": "text/x-python",
   "name": "python",
   "nbconvert_exporter": "python",
   "pygments_lexer": "ipython3",
   "version": "3.7.4"
  }
 },
 "nbformat": 4,
 "nbformat_minor": 2
}
