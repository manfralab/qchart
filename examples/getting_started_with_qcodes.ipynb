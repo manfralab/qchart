{
 "cells": [
  {
   "cell_type": "markdown",
   "metadata": {},
   "source": [
    "# using `qcodes`/`qchar` with `qchart`"
   ]
  },
  {
   "cell_type": "code",
   "execution_count": 33,
   "metadata": {},
   "outputs": [
    {
     "name": "stdout",
     "output_type": "stream",
     "text": [
      "The autoreload extension is already loaded. To reload it, use:\n",
      "  %reload_ext autoreload\n"
     ]
    }
   ],
   "source": [
    "%load_ext autoreload\n",
    "%autoreload 2\n",
    "\n",
    "%matplotlib notebook\n",
    "import matplotlib as mpl\n",
    "import matplotlib.pyplot as plt\n",
    "import time\n",
    "import qcodes as qc\n",
    "from pathlib import Path\n",
    "import numpy as np"
   ]
  },
  {
   "cell_type": "code",
   "execution_count": 34,
   "metadata": {
    "scrolled": false
   },
   "outputs": [
    {
     "data": {
      "text/plain": [
       "qchart#None#2@C:\\Users\\Nik\\Dropbox\\Repos\\qchart\\_logs\\data\\test_plots.db\n",
       "------------------------------------------------------------------------\n",
       "36-results-1-zed_ch1,zed_ch2,bob_v1,bob_v2-0\n",
       "37-results-2-zed_ch1,zed_ch2,bob_v1,bob_v2-0\n",
       "38-results-3-zed_ch1,zed_ch2,bob_v1,bob_v2-300"
      ]
     },
     "execution_count": 34,
     "metadata": {},
     "output_type": "execute_result"
    }
   ],
   "source": [
    "# first some imports to handle the data saving\n",
    "from qcodes import initialise_database\n",
    "from qcodes.dataset.experiment_container import load_or_create_experiment\n",
    "\n",
    "db_path = Path('../_logs/data/test_plots.db')\n",
    "db_path.parents[0].mkdir(parents=True, exist_ok=True)\n",
    "qc.config.current_config.core.db_location = str(db_path)\n",
    "\n",
    "initialise_database()  # just in case no database file exists\n",
    "load_or_create_experiment(\"qchart\", sample_name=\"None\")"
   ]
  },
  {
   "cell_type": "markdown",
   "metadata": {},
   "source": [
    "### Set up subscriber as default\n",
    "\n",
    "And change update frequency to be a little faster than the qcodes defaults"
   ]
  },
  {
   "cell_type": "code",
   "execution_count": 35,
   "metadata": {},
   "outputs": [],
   "source": [
    "qc.config.current_config.subscription.subscribers['qchart'] = {\n",
    "    'factory': 'qchart.subscribers.QcodesSubscriber',\n",
    "    'factory_kwargs': {\n",
    "        'subscriber_logs': False\n",
    "    },\n",
    "    'subscription_kwargs': {\n",
    "        'min_wait': 0,\n",
    "        'min_count': 1,\n",
    "        'callback_kwargs': {}\n",
    "    }\n",
    "}\n",
    "\n",
    "qc.config.current_config.subscription.default_subscribers = ['qchart']"
   ]
  },
  {
   "cell_type": "markdown",
   "metadata": {},
   "source": [
    "### Start listener"
   ]
  },
  {
   "cell_type": "code",
   "execution_count": 3,
   "metadata": {},
   "outputs": [
    {
     "name": "stdout",
     "output_type": "stream",
     "text": [
      "starting qchart listener at c:\\users\\nik\\dropbox\\repos\\qchart\\listener_start.py ...\n",
      "qchart listener successfully started.\n"
     ]
    }
   ],
   "source": [
    "from qchart import start_listener, listener_is_running\n",
    "\n",
    "start_listener()"
   ]
  },
  {
   "cell_type": "code",
   "execution_count": 8,
   "metadata": {},
   "outputs": [
    {
     "data": {
      "text/plain": [
       "True"
      ]
     },
     "execution_count": 8,
     "metadata": {},
     "output_type": "execute_result"
    }
   ],
   "source": [
    "# check\n",
    "listener_is_running()"
   ]
  },
  {
   "cell_type": "markdown",
   "metadata": {},
   "source": [
    "### Setup DummyInstr"
   ]
  },
  {
   "cell_type": "code",
   "execution_count": 1,
   "metadata": {},
   "outputs": [
    {
     "name": "stdout",
     "output_type": "stream",
     "text": [
      "pyqtgraph plotting not supported, try \"from qcodes.plots.pyqtgraph import QtPlot\" to see the full error\n"
     ]
    }
   ],
   "source": [
    "# and the imports I need to do the measurement\n",
    "from qcodes.tests.instrument_mocks import DummyInstrument\n",
    "from qcodes.dataset.measurements import Measurement\n",
    "from qcodes.dataset.plotting import plot_by_id\n",
    "\n",
    "# making some fake instruments\n",
    "try:\n",
    "    dac = DummyInstrument('zed', gates=['ch1', 'ch2']) # to set\n",
    "    dmm = DummyInstrument('bob', gates=['v1', 'v2'])   # to get\n",
    "except KeyError:\n",
    "    pass"
   ]
  },
  {
   "cell_type": "code",
   "execution_count": 18,
   "metadata": {},
   "outputs": [],
   "source": [
    "from functools import partial\n",
    "\n",
    "# and we'll make a 2D gaussian to sample from/measure\n",
    "def gauss_model(x0: float, y0: float, sigma: float, noise: float=0.0005):\n",
    "    \"\"\"\n",
    "    Returns a generator sampling a gaussian. The gaussian is\n",
    "    normalised such that its maximal value is simply 1\n",
    "    \"\"\"\n",
    "    while True:\n",
    "        (x, y) = yield\n",
    "        model = np.exp(-((x0-x)**2+(y0-y)**2)/2/sigma**2)*np.exp(2*sigma**2)\n",
    "        noise = np.random.randn()*noise\n",
    "        yield model + noise\n",
    "        \n",
    "# connect the dmm.v1 to \"measure\" the gaussian\n",
    "\n",
    "gauss1 = gauss_model(0.1, 0.2, 0.25)\n",
    "next(gauss1)\n",
    "\n",
    "gauss2 = gauss_model(-0.2, 0.1, 0.5)\n",
    "next(gauss2)\n",
    "\n",
    "def measure_gauss1(dac):\n",
    "    val = gauss1.send((dac.ch1.get(), dac.ch2.get()))\n",
    "    next(gauss1)\n",
    "    return val\n",
    "\n",
    "def measure_gauss2(dac):\n",
    "    val = gauss2.send((dac.ch1.get(), dac.ch2.get()))\n",
    "    next(gauss2)\n",
    "    return val\n",
    "\n",
    "dmm.v1.get = partial(measure_gauss1, dac)\n",
    "dmm.v2.get = partial(measure_gauss2, dac)"
   ]
  },
  {
   "cell_type": "markdown",
   "metadata": {},
   "source": [
    "### sweeps with a 'grid'"
   ]
  },
  {
   "cell_type": "code",
   "execution_count": 57,
   "metadata": {
    "scrolled": false
   },
   "outputs": [],
   "source": [
    "from qchart.subscribers import QcodesSubscriber\n",
    "\n",
    "def do1d(param_set, xarray, delay, *param_meas):\n",
    "\n",
    "    meas = Measurement()\n",
    "    meas.write_period = 0.5\n",
    "    \n",
    "    meas.register_parameter(param_set)\n",
    "    param_set.post_delay = 0\n",
    "    \n",
    "    output = []\n",
    "    for pm in param_meas:\n",
    "        meas.register_parameter(pm, setpoints=(param_set,))\n",
    "        output.append([pm, None])\n",
    "        \n",
    "    with meas.run() as ds:\n",
    "\n",
    "#         plot_subscriber = QcodesSubscriber(\n",
    "#             ds.dataset, \n",
    "#             subscriber_logs=False,\n",
    "#         )\n",
    "#         ds.dataset.subscribe(plot_subscriber)\n",
    "        \n",
    "        for x in xarray:\n",
    "            param_set.set(x)\n",
    "            time.sleep(delay)\n",
    "            for i, parameter in enumerate(param_meas):\n",
    "                output[i][1] = parameter.get()\n",
    "            \n",
    "            ds.add_result((param_set, x),\n",
    "                                 *output)\n",
    "    \n",
    "        return ds.dataset\n",
    "\n",
    "def do2d_grid(param_set1, xarray, delay1,\n",
    "              param_set2, yarray, delay2,\n",
    "              *param_meas):\n",
    "\n",
    "    meas = Measurement()\n",
    "    meas.write_period = 0.5\n",
    "    \n",
    "    meas.register_parameter(param_set1)\n",
    "    param_set1.post_delay = 0\n",
    "    meas.register_parameter(param_set2)\n",
    "    param_set2.post_delay = 0\n",
    "\n",
    "    output = []\n",
    "    for parameter in param_meas:\n",
    "        meas.register_parameter(parameter, setpoints=(param_set1,param_set2))\n",
    "        output.append([parameter, None])\n",
    "\n",
    "    with meas.run() as ds:\n",
    "        \n",
    "#         plot_subscriber = QcodesSubscriber(\n",
    "#             ds.dataset, \n",
    "#             subscriber_logs=False,\n",
    "#         )\n",
    "#         ds.dataset.subscribe(plot_subscriber)\n",
    "        \n",
    "        for y in yarray:\n",
    "            param_set2.set(y)\n",
    "            time.sleep(delay2)\n",
    "            for x in xarray:\n",
    "                param_set1.set(x)\n",
    "                time.sleep(delay1)\n",
    "                for i, parameter in enumerate(param_meas):\n",
    "                    output[i][1] = parameter.get()\n",
    "                ds.add_result((param_set1, x),\n",
    "                                     (param_set2, y),\n",
    "                                     *output)\n",
    "        time.sleep(0.2)\n",
    "        \n",
    "        return ds.dataset  "
   ]
  },
  {
   "cell_type": "code",
   "execution_count": 58,
   "metadata": {
    "scrolled": false
   },
   "outputs": [
    {
     "name": "stdout",
     "output_type": "stream",
     "text": [
      "Starting experimental run with id: 53\n",
      "Timeout during sending!\n",
      "Timeout during sending!\n",
      "Timeout during sending!\n",
      "Timeout during sending!\n",
      "Timeout during sending!\n",
      "Timeout during sending!\n",
      "Timeout during sending!\n"
     ]
    }
   ],
   "source": [
    "xarr = np.linspace(-1,2,15)\n",
    "yarr = np.linspace(-1,1,10)\n",
    "ds = do2d_grid(dac.ch1, xarr, 0.2, dac.ch2, yarr, 0.3, dmm.v1, dmm.v2)"
   ]
  },
  {
   "cell_type": "markdown",
   "metadata": {},
   "source": [
    "### sweeps with ridiculous spacing"
   ]
  },
  {
   "cell_type": "code",
   "execution_count": 45,
   "metadata": {},
   "outputs": [],
   "source": [
    "def get_x():\n",
    "    return np.random.uniform(low=-1.0, high=2.0)\n",
    "\n",
    "def get_y():\n",
    "    return np.random.uniform(low=-1.0, high=1.0)\n",
    "\n",
    "def do2d_rand(param_set1, param_set2, n, delay,\n",
    "              *param_meas):\n",
    "\n",
    "    meas = Measurement()\n",
    "    meas.write_period = 0.5\n",
    "    \n",
    "    meas.register_parameter(param_set1)\n",
    "    param_set1.post_delay = 0\n",
    "    meas.register_parameter(param_set2)\n",
    "    param_set2.post_delay = 0\n",
    "\n",
    "    output = []\n",
    "    for parameter in param_meas:\n",
    "        meas.register_parameter(parameter, setpoints=(param_set1,param_set2))\n",
    "        output.append([parameter, None])\n",
    "\n",
    "    with meas.run() as ds:\n",
    "        \n",
    "        for i in range(n):\n",
    "                \n",
    "                x = get_x()\n",
    "                param_set1.set(x)\n",
    "                \n",
    "                y = get_y()\n",
    "                param_set2.set(y)\n",
    "                \n",
    "                time.sleep(delay)\n",
    "                for i, parameter in enumerate(param_meas):\n",
    "                    output[i][1] = parameter.get()\n",
    "                ds.add_result((param_set1, x),\n",
    "                                     (param_set2, y),\n",
    "                                     *output)\n",
    "        time.sleep(0.2)\n",
    "        \n",
    "    return ds.run_id  # convenient to have for plotting"
   ]
  },
  {
   "cell_type": "code",
   "execution_count": 56,
   "metadata": {
    "scrolled": false
   },
   "outputs": [
    {
     "name": "stdout",
     "output_type": "stream",
     "text": [
      "Starting experimental run with id: 52\n"
     ]
    }
   ],
   "source": [
    "ds = do2d_rand(dac.ch1, dac.ch2, 250, 0.1, dmm.v1, dmm.v2)"
   ]
  },
  {
   "cell_type": "code",
   "execution_count": 49,
   "metadata": {},
   "outputs": [
    {
     "data": {
      "text/plain": [
       "6"
      ]
     },
     "execution_count": 49,
     "metadata": {},
     "output_type": "execute_result"
    }
   ],
   "source": []
  },
  {
   "cell_type": "code",
   "execution_count": null,
   "metadata": {},
   "outputs": [],
   "source": []
  }
 ],
 "metadata": {
  "kernelspec": {
   "display_name": "Python3 (qchar)",
   "language": "python",
   "name": "qchar"
  },
  "language_info": {
   "codemirror_mode": {
    "name": "ipython",
    "version": 3
   },
   "file_extension": ".py",
   "mimetype": "text/x-python",
   "name": "python",
   "nbconvert_exporter": "python",
   "pygments_lexer": "ipython3",
   "version": "3.7.4"
  }
 },
 "nbformat": 4,
 "nbformat_minor": 2
}
