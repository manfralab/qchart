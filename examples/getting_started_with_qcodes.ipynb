{
 "cells": [
  {
   "cell_type": "markdown",
   "metadata": {},
   "source": [
    "# using `qcodes`/`qchar` with `qchart`"
   ]
  },
  {
   "cell_type": "code",
   "execution_count": 1,
   "metadata": {},
   "outputs": [
    {
     "name": "stdout",
     "output_type": "stream",
     "text": [
      "pyqtgraph plotting not supported, try \"from qcodes.plots.pyqtgraph import QtPlot\" to see the full error\n"
     ]
    }
   ],
   "source": [
    "%load_ext autoreload\n",
    "%autoreload 2\n",
    "\n",
    "%matplotlib notebook\n",
    "import matplotlib as mpl\n",
    "import matplotlib.pyplot as plt\n",
    "import time\n",
    "import qcodes as qc\n",
    "from pathlib import Path\n",
    "import numpy as np"
   ]
  },
  {
   "cell_type": "code",
   "execution_count": 2,
   "metadata": {
    "scrolled": false
   },
   "outputs": [
    {
     "data": {
      "text/plain": [
       "shockplot#None#1@C:\\Users\\Nik\\Dropbox\\Repos\\qchart\\_logs\\data\\test_plots.db\n",
       "---------------------------------------------------------------------------\n",
       "1-results-1-zed_ch1,bob_v2,bob_v1-0\n",
       "2-results-2-zed_ch1,bob_v2,bob_v1-400\n",
       "3-results-3-zed_ch1,bob_v2,bob_v1-0\n",
       "4-results-4-zed_ch1,bob_v2,bob_v1-0\n",
       "5-results-5-zed_ch1,bob_v2,bob_v1-0\n",
       "6-results-6-zed_ch1,bob_v2,bob_v1-0\n",
       "7-results-7-zed_ch1,bob_v2,bob_v1-400\n",
       "8-results-8-zed_ch1,bob_v2,bob_v1-50\n",
       "9-results-9-zed_ch1,bob_v2,bob_v1-50\n",
       "10-results-10-zed_ch1,bob_v2,bob_v1-0\n",
       "11-results-11-zed_ch1,bob_v2,bob_v1-50\n",
       "12-results-12-zed_ch1,bob_v2,bob_v1-50\n",
       "13-results-13-zed_ch1,bob_v2,bob_v1-50\n",
       "14-results-14-zed_ch1,bob_v2,bob_v1-0\n",
       "15-results-15-zed_ch1,bob_v2,bob_v1-50\n",
       "16-results-16-zed_ch1,bob_v2,bob_v1-50\n",
       "17-results-17-zed_ch1,bob_v2,bob_v1-50\n",
       "18-results-18-zed_ch1,bob_v2,bob_v1-50\n",
       "19-results-19-zed_ch1,bob_v2,bob_v1-500\n",
       "20-results-20-zed_ch1,bob_v2,bob_v1-500\n",
       "21-results-21-zed_ch1,bob_v2,bob_v1-500\n",
       "22-results-22-zed_ch1,bob_v2,bob_v1-500\n",
       "23-results-23-zed_ch1,bob_v2,bob_v1-500\n",
       "24-results-24-zed_ch1,bob_v2,bob_v1-500\n",
       "25-results-25-zed_ch1,bob_v2,bob_v1-500"
      ]
     },
     "execution_count": 2,
     "metadata": {},
     "output_type": "execute_result"
    }
   ],
   "source": [
    "# first some imports to handle the data saving\n",
    "from qcodes import initialise_database\n",
    "from qcodes.dataset.experiment_container import load_or_create_experiment\n",
    "\n",
    "db_path = Path('../_logs/data/test_plots.db')\n",
    "db_path.parents[0].mkdir(parents=True, exist_ok=True)\n",
    "qc.config.current_config.core.db_location = str(db_path)\n",
    "\n",
    "initialise_database()  # just in case no database file exists\n",
    "load_or_create_experiment(\"shockplot\", sample_name=\"None\")"
   ]
  },
  {
   "cell_type": "markdown",
   "metadata": {},
   "source": [
    "### Setup DummyInstr"
   ]
  },
  {
   "cell_type": "code",
   "execution_count": 3,
   "metadata": {},
   "outputs": [],
   "source": [
    "# and the imports I need to do the measurement\n",
    "from qcodes.tests.instrument_mocks import DummyInstrument\n",
    "from qcodes.dataset.measurements import Measurement\n",
    "from qcodes.dataset.plotting import plot_by_id"
   ]
  },
  {
   "cell_type": "code",
   "execution_count": 4,
   "metadata": {},
   "outputs": [],
   "source": [
    "# making some fake instruments\n",
    "try:\n",
    "    dac = DummyInstrument('zed', gates=['ch1', 'ch2']) # to set\n",
    "    dmm = DummyInstrument('bob', gates=['v1', 'v2'])   # to get\n",
    "except KeyError:\n",
    "    pass"
   ]
  },
  {
   "cell_type": "code",
   "execution_count": 5,
   "metadata": {},
   "outputs": [],
   "source": [
    "from functools import partial\n",
    "\n",
    "# and we'll make a 2D gaussian to sample from/measure\n",
    "def gauss_model(x0: float, y0: float, sigma: float, noise: float=0.0005):\n",
    "    \"\"\"\n",
    "    Returns a generator sampling a gaussian. The gaussian is\n",
    "    normalised such that its maximal value is simply 1\n",
    "    \"\"\"\n",
    "    while True:\n",
    "        (x, y) = yield\n",
    "        model = np.exp(-((x0-x)**2+(y0-y)**2)/2/sigma**2)*np.exp(2*sigma**2)\n",
    "        noise = np.random.randn()*noise\n",
    "        yield model + noise\n",
    "        \n",
    "# connect the dmm.v1 to \"measure\" the gaussian\n",
    "\n",
    "gauss1 = gauss_model(0.1, 0.2, 0.25)\n",
    "next(gauss1)\n",
    "\n",
    "gauss2 = gauss_model(-0.2, 0.1, 0.5)\n",
    "next(gauss2)\n",
    "\n",
    "def measure_gauss1(dac):\n",
    "    val = gauss1.send((dac.ch1.get(), dac.ch2.get()))\n",
    "    next(gauss1)\n",
    "    return val\n",
    "\n",
    "def measure_gauss2(dac):\n",
    "    val = gauss2.send((dac.ch1.get(), dac.ch2.get()))\n",
    "    next(gauss2)\n",
    "    return val\n",
    "\n",
    "dmm.v1.get = partial(measure_gauss1, dac)\n",
    "dmm.v2.get = partial(measure_gauss2, dac)"
   ]
  },
  {
   "cell_type": "markdown",
   "metadata": {},
   "source": [
    "### sweeps with a 'grid'"
   ]
  },
  {
   "cell_type": "code",
   "execution_count": 11,
   "metadata": {
    "scrolled": false
   },
   "outputs": [],
   "source": [
    "from qchart.subscribers import QcodesSubscriber\n",
    "\n",
    "def do1d(param_set, xarray, delay, *param_meas):\n",
    "\n",
    "    meas = Measurement()\n",
    "    meas.write_period = 0.5\n",
    "    \n",
    "    meas.register_parameter(param_set)\n",
    "    param_set.post_delay = 0\n",
    "    \n",
    "    output = []\n",
    "    for pm in param_meas:\n",
    "        meas.register_parameter(pm, setpoints=(param_set,))\n",
    "        output.append([pm, None])\n",
    "        \n",
    "    with meas.run() as ds:\n",
    "\n",
    "        plot_subscriber = QcodesSubscriber(\n",
    "            ds.dataset, \n",
    "            subscriber_logs=False,\n",
    "        )\n",
    "        ds.dataset.subscribe(plot_subscriber)\n",
    "        \n",
    "        for x in xarray:\n",
    "            param_set.set(x)\n",
    "            time.sleep(delay)\n",
    "            for i, parameter in enumerate(param_meas):\n",
    "                output[i][1] = parameter.get()\n",
    "            \n",
    "            ds.add_result((param_set, x),\n",
    "                                 *output)\n",
    "    \n",
    "        return ds.dataset\n",
    "\n",
    "def do2d_grid(param_set1, xarray, delay1,\n",
    "              param_set2, yarray, delay2,\n",
    "              *param_meas):\n",
    "\n",
    "    meas = Measurement()\n",
    "    meas.write_period = 0.5\n",
    "    \n",
    "    meas.register_parameter(param_set1)\n",
    "    param_set1.post_delay = 0\n",
    "    meas.register_parameter(param_set2)\n",
    "    param_set2.post_delay = 0\n",
    "\n",
    "    output = []\n",
    "    for parameter in param_meas:\n",
    "        meas.register_parameter(parameter, setpoints=(param_set1,param_set2))\n",
    "        output.append([parameter, None])\n",
    "\n",
    "    with meas.run() as ds:\n",
    "        \n",
    "        plot_subscriber = QcodesSubscriber(\n",
    "            ds.dataset, \n",
    "            subscriber_logs=False,\n",
    "        )\n",
    "        ds.dataset.subscribe(plot_subscriber)\n",
    "        \n",
    "        for y in yarray:\n",
    "            param_set2.set(y)\n",
    "            time.sleep(delay2)\n",
    "            for x in xarray:\n",
    "                param_set1.set(x)\n",
    "                time.sleep(delay1)\n",
    "                for i, parameter in enumerate(param_meas):\n",
    "                    output[i][1] = parameter.get()\n",
    "                ds.add_result((param_set1, x),\n",
    "                                     (param_set2, y),\n",
    "                                     *output)\n",
    "        time.sleep(0.2)\n",
    "        \n",
    "        return ds.dataset  "
   ]
  },
  {
   "cell_type": "code",
   "execution_count": 12,
   "metadata": {
    "scrolled": false
   },
   "outputs": [
    {
     "name": "stdout",
     "output_type": "stream",
     "text": [
      "Starting experimental run with id: 29\n"
     ]
    }
   ],
   "source": [
    "xarr = np.linspace(-1,2,15)\n",
    "yarr = np.linspace(-1,1,10)\n",
    "ds = do2d_grid(dac.ch1, xarr, 0.2, dac.ch2, yarr, 0.3, dmm.v1, dmm.v2)"
   ]
  },
  {
   "cell_type": "markdown",
   "metadata": {},
   "source": [
    "### sweeps with ridiculous spacing"
   ]
  },
  {
   "cell_type": "code",
   "execution_count": 26,
   "metadata": {},
   "outputs": [],
   "source": [
    "def get_x():\n",
    "    return np.random.uniform(low=-1.0, high=2.0)\n",
    "\n",
    "def get_y():\n",
    "    return np.random.uniform(low=-1.0, high=1.0)\n",
    "\n",
    "def do2d_rand(param_set1, param_set2, n, delay,\n",
    "              *param_meas):\n",
    "\n",
    "    meas = Measurement()\n",
    "    meas.write_period = 0.1\n",
    "    \n",
    "    meas.register_parameter(param_set1)\n",
    "    param_set1.post_delay = 0\n",
    "    meas.register_parameter(param_set2)\n",
    "    param_set2.post_delay = 0\n",
    "\n",
    "    output = []\n",
    "    for parameter in param_meas:\n",
    "        meas.register_parameter(parameter, setpoints=(param_set1,param_set2))\n",
    "        output.append([parameter, None])\n",
    "\n",
    "    with meas.run() as ds:\n",
    "        \n",
    "        plot_subscriber = QcodesSubscriber(\n",
    "            ds.dataset, \n",
    "            subscriber_logs=False,\n",
    "        )\n",
    "        ds.dataset.subscribe(plot_subscriber)\n",
    "        \n",
    "        for i in range(n):\n",
    "                \n",
    "                x = get_x()\n",
    "                param_set1.set(x)\n",
    "                \n",
    "                y = get_y()\n",
    "                param_set2.set(y)\n",
    "                \n",
    "                time.sleep(delay)\n",
    "                for i, parameter in enumerate(param_meas):\n",
    "                    output[i][1] = parameter.get()\n",
    "                ds.add_result((param_set1, x),\n",
    "                                     (param_set2, y),\n",
    "                                     *output)\n",
    "        time.sleep(0.2)\n",
    "        \n",
    "    return ds.run_id  # convenient to have for plotting"
   ]
  },
  {
   "cell_type": "code",
   "execution_count": null,
   "metadata": {
    "scrolled": false
   },
   "outputs": [
    {
     "name": "stdout",
     "output_type": "stream",
     "text": [
      "Starting experimental run with id: 33\n"
     ]
    }
   ],
   "source": [
    "ds = do2d_rand(dac.ch1, dac.ch2, 250, 0.1, dmm.v1, dmm.v2)"
   ]
  },
  {
   "cell_type": "code",
   "execution_count": 21,
   "metadata": {},
   "outputs": [
    {
     "data": {
      "text/plain": [
       "4"
      ]
     },
     "execution_count": 21,
     "metadata": {},
     "output_type": "execute_result"
    }
   ],
   "source": [
    "np.random.random((2,2)).size"
   ]
  },
  {
   "cell_type": "code",
   "execution_count": null,
   "metadata": {},
   "outputs": [],
   "source": []
  }
 ],
 "metadata": {
  "kernelspec": {
   "display_name": "Python3 (qchar)",
   "language": "python",
   "name": "qchar"
  },
  "language_info": {
   "codemirror_mode": {
    "name": "ipython",
    "version": 3
   },
   "file_extension": ".py",
   "mimetype": "text/x-python",
   "name": "python",
   "nbconvert_exporter": "python",
   "pygments_lexer": "ipython3",
   "version": "3.7.4"
  }
 },
 "nbformat": 4,
 "nbformat_minor": 2
}
